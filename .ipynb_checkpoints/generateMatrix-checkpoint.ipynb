{
 "cells": [
  {
   "cell_type": "code",
   "execution_count": 1,
   "metadata": {},
   "outputs": [],
   "source": [
    "import pandas as pd\n",
    "import numpy as np\n",
    "from scipy.sparse import csr_matrix\n",
    "from scipy.sparse.linalg import norm, svds\n",
    "import time\n",
    "import matplotlib.pyplot as plt\n",
    "import seaborn as sns\n"
   ]
  },
  {
   "cell_type": "markdown",
   "metadata": {},
   "source": [
    "In this section, we will explore different similarity metrics Netflix uses to recommend "
   ]
  },
  {
   "cell_type": "markdown",
   "metadata": {},
   "source": [
    "Shows movie dataset"
   ]
  },
  {
   "cell_type": "code",
   "execution_count": 2,
   "metadata": {},
   "outputs": [
    {
     "data": {
      "text/html": [
       "<div>\n",
       "<style scoped>\n",
       "    .dataframe tbody tr th:only-of-type {\n",
       "        vertical-align: middle;\n",
       "    }\n",
       "\n",
       "    .dataframe tbody tr th {\n",
       "        vertical-align: top;\n",
       "    }\n",
       "\n",
       "    .dataframe thead th {\n",
       "        text-align: right;\n",
       "    }\n",
       "</style>\n",
       "<table border=\"1\" class=\"dataframe\">\n",
       "  <thead>\n",
       "    <tr style=\"text-align: right;\">\n",
       "      <th></th>\n",
       "      <th>Movie_ID</th>\n",
       "      <th>Year</th>\n",
       "      <th>Name</th>\n",
       "    </tr>\n",
       "  </thead>\n",
       "  <tbody>\n",
       "    <tr>\n",
       "      <th>0</th>\n",
       "      <td>1</td>\n",
       "      <td>2003</td>\n",
       "      <td>Dinosaur Planet</td>\n",
       "    </tr>\n",
       "    <tr>\n",
       "      <th>1</th>\n",
       "      <td>2</td>\n",
       "      <td>2004</td>\n",
       "      <td>Isle of Man TT 2004 Review</td>\n",
       "    </tr>\n",
       "    <tr>\n",
       "      <th>2</th>\n",
       "      <td>3</td>\n",
       "      <td>1997</td>\n",
       "      <td>Character</td>\n",
       "    </tr>\n",
       "    <tr>\n",
       "      <th>3</th>\n",
       "      <td>4</td>\n",
       "      <td>1994</td>\n",
       "      <td>Paula Abdul's Get Up &amp; Dance</td>\n",
       "    </tr>\n",
       "    <tr>\n",
       "      <th>4</th>\n",
       "      <td>5</td>\n",
       "      <td>2004</td>\n",
       "      <td>The Rise and Fall of ECW</td>\n",
       "    </tr>\n",
       "  </tbody>\n",
       "</table>\n",
       "</div>"
      ],
      "text/plain": [
       "   Movie_ID  Year                          Name\n",
       "0         1  2003               Dinosaur Planet\n",
       "1         2  2004    Isle of Man TT 2004 Review\n",
       "2         3  1997                     Character\n",
       "3         4  1994  Paula Abdul's Get Up & Dance\n",
       "4         5  2004      The Rise and Fall of ECW"
      ]
     },
     "execution_count": 2,
     "metadata": {},
     "output_type": "execute_result"
    }
   ],
   "source": [
    "movie_dataset = \"Dataset/Netflix_Dataset_Movie.csv\"\n",
    "movie_df = pd.read_csv(movie_dataset)\n",
    "movie_df.head()"
   ]
  },
  {
   "cell_type": "markdown",
   "metadata": {},
   "source": [
    "Shows user dataset"
   ]
  },
  {
   "cell_type": "code",
   "execution_count": 3,
   "metadata": {},
   "outputs": [
    {
     "data": {
      "text/html": [
       "<div>\n",
       "<style scoped>\n",
       "    .dataframe tbody tr th:only-of-type {\n",
       "        vertical-align: middle;\n",
       "    }\n",
       "\n",
       "    .dataframe tbody tr th {\n",
       "        vertical-align: top;\n",
       "    }\n",
       "\n",
       "    .dataframe thead th {\n",
       "        text-align: right;\n",
       "    }\n",
       "</style>\n",
       "<table border=\"1\" class=\"dataframe\">\n",
       "  <thead>\n",
       "    <tr style=\"text-align: right;\">\n",
       "      <th></th>\n",
       "      <th>User_ID</th>\n",
       "      <th>Rating</th>\n",
       "      <th>Movie_ID</th>\n",
       "    </tr>\n",
       "  </thead>\n",
       "  <tbody>\n",
       "    <tr>\n",
       "      <th>0</th>\n",
       "      <td>712664</td>\n",
       "      <td>5</td>\n",
       "      <td>3</td>\n",
       "    </tr>\n",
       "    <tr>\n",
       "      <th>1</th>\n",
       "      <td>1331154</td>\n",
       "      <td>4</td>\n",
       "      <td>3</td>\n",
       "    </tr>\n",
       "    <tr>\n",
       "      <th>2</th>\n",
       "      <td>2632461</td>\n",
       "      <td>3</td>\n",
       "      <td>3</td>\n",
       "    </tr>\n",
       "    <tr>\n",
       "      <th>3</th>\n",
       "      <td>44937</td>\n",
       "      <td>5</td>\n",
       "      <td>3</td>\n",
       "    </tr>\n",
       "    <tr>\n",
       "      <th>4</th>\n",
       "      <td>656399</td>\n",
       "      <td>4</td>\n",
       "      <td>3</td>\n",
       "    </tr>\n",
       "  </tbody>\n",
       "</table>\n",
       "</div>"
      ],
      "text/plain": [
       "   User_ID  Rating  Movie_ID\n",
       "0   712664       5         3\n",
       "1  1331154       4         3\n",
       "2  2632461       3         3\n",
       "3    44937       5         3\n",
       "4   656399       4         3"
      ]
     },
     "execution_count": 3,
     "metadata": {},
     "output_type": "execute_result"
    }
   ],
   "source": [
    "user_dataset = \"Dataset/Netflix_Dataset_Rating.csv\"\n",
    "user_df = pd.read_csv(user_dataset)\n",
    "user_df.head()"
   ]
  },
  {
   "cell_type": "code",
   "execution_count": 4,
   "metadata": {},
   "outputs": [
    {
     "name": "stderr",
     "output_type": "stream",
     "text": [
      "/Users/jeff/opt/anaconda3/lib/python3.9/site-packages/seaborn/_decorators.py:36: FutureWarning: Pass the following variable as a keyword arg: x. From version 0.12, the only valid positional argument will be `data`, and passing other arguments without an explicit keyword will result in an error or misinterpretation.\n",
      "  warnings.warn(\n"
     ]
    },
    {
     "data": {
      "image/png": "[encoded data removed]",
      "text/plain": [
       "<Figure size 720x432 with 1 Axes>"
      ]
     },
     "metadata": {
      "needs_background": "light"
     },
     "output_type": "display_data"
    }
   ],
   "source": [
    "movie_df.dropna(inplace=True)  # Drop rows with NaN values\n",
    "user_df = user_df[user_df['Rating'] != 0]  # Remove rows where rating is 0\n",
    "\n",
    "# Basic Statistics\n",
    "plt.figure(figsize=(10, 6))\n",
    "plt.title('Distribution of Ratings over Dataset', fontsize=15)\n",
    "sns.countplot(user_df.Rating)\n",
    "plt.ylabel('Number of Ratings')\n",
    "plt.show()"
   ]
  },
  {
   "cell_type": "markdown",
   "metadata": {},
   "source": [
    "The below calculation shows how many movies are rated by no users in our dataset. Because these movies have 0 ratings for all users, we will exclude them from our data. Since there are 16,420 movies that are unrated, our user-movie matrix will have signicantly fewer columns than the total number of movies in the dataset.\n",
    "\n",
    "Sparsity Reduction: Movie recommendation datasets are typically sparse, meaning most movies are not rated by most users. Removing movies that have zero ratings can significantly reduce the sparsity of our matrix, making matrix factorization techniques more effective and computationally feasible."
   ]
  },
  {
   "cell_type": "code",
   "execution_count": 5,
   "metadata": {},
   "outputs": [
    {
     "name": "stdout",
     "output_type": "stream",
     "text": [
      "Number of movies not rated by users: 16420\n"
     ]
    }
   ],
   "source": [
    "movies_in_movie_df = set(movie_df['Movie_ID'])\n",
    "movies_in_user_df = set(user_df['Movie_ID'])\n",
    "unrated_movies = movies_in_movie_df - movies_in_user_df\n",
    "\n",
    "print(f\"Number of movies not rated by users: {len(unrated_movies)}\")"
   ]
  },
  {
   "cell_type": "markdown",
   "metadata": {},
   "source": [
    "Combine these two dataframe objects in order to initalize our matrix. We assume that an \"unrated\" movie has a rating 0 for now."
   ]
  },
  {
   "cell_type": "code",
   "execution_count": 6,
   "metadata": {},
   "outputs": [],
   "source": [
    "merged_df = pd.merge(user_df, movie_df, on='Movie_ID')\n",
    "rating_matrix = merged_df.pivot_table(index='User_ID', columns='Name', values='Rating')\n",
    "rating_matrix = rating_matrix.fillna(0)\n",
    "rating_matrix = rating_matrix.sort_index()"
   ]
  },
  {
   "cell_type": "code",
   "execution_count": 7,
   "metadata": {},
   "outputs": [
    {
     "name": "stdout",
     "output_type": "stream",
     "text": [
      "Pivot Table Size: 143458 rows, 1342 columns\n"
     ]
    },
    {
     "data": {
      "text/html": [
       "<div>\n",
       "<style scoped>\n",
       "    .dataframe tbody tr th:only-of-type {\n",
       "        vertical-align: middle;\n",
       "    }\n",
       "\n",
       "    .dataframe tbody tr th {\n",
       "        vertical-align: top;\n",
       "    }\n",
       "\n",
       "    .dataframe thead th {\n",
       "        text-align: right;\n",
       "    }\n",
       "</style>\n",
       "<table border=\"1\" class=\"dataframe\">\n",
       "  <thead>\n",
       "    <tr style=\"text-align: right;\">\n",
       "      <th>Name</th>\n",
       "      <th>10</th>\n",
       "      <th>10 Things I Hate About You</th>\n",
       "      <th>101 Dalmatians II: Patch's London Adventure</th>\n",
       "      <th>11:14</th>\n",
       "      <th>13 Ghosts</th>\n",
       "      <th>18 Again</th>\n",
       "      <th>1984</th>\n",
       "      <th>2 Fast 2 Furious</th>\n",
       "      <th>200 Cigarettes</th>\n",
       "      <th>2010: The Year We Make Contact</th>\n",
       "      <th>...</th>\n",
       "      <th>Xena: Warrior Princess: Season 3</th>\n",
       "      <th>Xena: Warrior Princess: Series Finale</th>\n",
       "      <th>Y Tu Mama Tambien</th>\n",
       "      <th>Yellow Submarine</th>\n",
       "      <th>Yi Yi</th>\n",
       "      <th>Yojimbo</th>\n",
       "      <th>Young Black Stallion</th>\n",
       "      <th>Youngblood</th>\n",
       "      <th>Yu-Gi-Oh!: The Movie</th>\n",
       "      <th>Zorro</th>\n",
       "    </tr>\n",
       "    <tr>\n",
       "      <th>User_ID</th>\n",
       "      <th></th>\n",
       "      <th></th>\n",
       "      <th></th>\n",
       "      <th></th>\n",
       "      <th></th>\n",
       "      <th></th>\n",
       "      <th></th>\n",
       "      <th></th>\n",
       "      <th></th>\n",
       "      <th></th>\n",
       "      <th></th>\n",
       "      <th></th>\n",
       "      <th></th>\n",
       "      <th></th>\n",
       "      <th></th>\n",
       "      <th></th>\n",
       "      <th></th>\n",
       "      <th></th>\n",
       "      <th></th>\n",
       "      <th></th>\n",
       "      <th></th>\n",
       "    </tr>\n",
       "  </thead>\n",
       "  <tbody>\n",
       "    <tr>\n",
       "      <th>6</th>\n",
       "      <td>0.0</td>\n",
       "      <td>0.0</td>\n",
       "      <td>0.0</td>\n",
       "      <td>0.0</td>\n",
       "      <td>0.0</td>\n",
       "      <td>0.0</td>\n",
       "      <td>4.0</td>\n",
       "      <td>0.0</td>\n",
       "      <td>0.0</td>\n",
       "      <td>0.0</td>\n",
       "      <td>...</td>\n",
       "      <td>0.0</td>\n",
       "      <td>0.0</td>\n",
       "      <td>0.0</td>\n",
       "      <td>0.0</td>\n",
       "      <td>0.0</td>\n",
       "      <td>0.0</td>\n",
       "      <td>0.0</td>\n",
       "      <td>0.0</td>\n",
       "      <td>0.0</td>\n",
       "      <td>0.0</td>\n",
       "    </tr>\n",
       "    <tr>\n",
       "      <th>7</th>\n",
       "      <td>0.0</td>\n",
       "      <td>0.0</td>\n",
       "      <td>0.0</td>\n",
       "      <td>0.0</td>\n",
       "      <td>0.0</td>\n",
       "      <td>0.0</td>\n",
       "      <td>0.0</td>\n",
       "      <td>3.0</td>\n",
       "      <td>0.0</td>\n",
       "      <td>0.0</td>\n",
       "      <td>...</td>\n",
       "      <td>0.0</td>\n",
       "      <td>0.0</td>\n",
       "      <td>0.0</td>\n",
       "      <td>0.0</td>\n",
       "      <td>0.0</td>\n",
       "      <td>0.0</td>\n",
       "      <td>0.0</td>\n",
       "      <td>0.0</td>\n",
       "      <td>0.0</td>\n",
       "      <td>0.0</td>\n",
       "    </tr>\n",
       "    <tr>\n",
       "      <th>79</th>\n",
       "      <td>0.0</td>\n",
       "      <td>0.0</td>\n",
       "      <td>3.0</td>\n",
       "      <td>0.0</td>\n",
       "      <td>0.0</td>\n",
       "      <td>0.0</td>\n",
       "      <td>0.0</td>\n",
       "      <td>2.0</td>\n",
       "      <td>0.0</td>\n",
       "      <td>0.0</td>\n",
       "      <td>...</td>\n",
       "      <td>0.0</td>\n",
       "      <td>0.0</td>\n",
       "      <td>0.0</td>\n",
       "      <td>0.0</td>\n",
       "      <td>0.0</td>\n",
       "      <td>0.0</td>\n",
       "      <td>0.0</td>\n",
       "      <td>0.0</td>\n",
       "      <td>3.0</td>\n",
       "      <td>0.0</td>\n",
       "    </tr>\n",
       "    <tr>\n",
       "      <th>97</th>\n",
       "      <td>0.0</td>\n",
       "      <td>0.0</td>\n",
       "      <td>0.0</td>\n",
       "      <td>0.0</td>\n",
       "      <td>0.0</td>\n",
       "      <td>0.0</td>\n",
       "      <td>0.0</td>\n",
       "      <td>0.0</td>\n",
       "      <td>0.0</td>\n",
       "      <td>0.0</td>\n",
       "      <td>...</td>\n",
       "      <td>0.0</td>\n",
       "      <td>3.0</td>\n",
       "      <td>0.0</td>\n",
       "      <td>0.0</td>\n",
       "      <td>0.0</td>\n",
       "      <td>0.0</td>\n",
       "      <td>0.0</td>\n",
       "      <td>0.0</td>\n",
       "      <td>0.0</td>\n",
       "      <td>0.0</td>\n",
       "    </tr>\n",
       "    <tr>\n",
       "      <th>134</th>\n",
       "      <td>0.0</td>\n",
       "      <td>5.0</td>\n",
       "      <td>0.0</td>\n",
       "      <td>0.0</td>\n",
       "      <td>0.0</td>\n",
       "      <td>0.0</td>\n",
       "      <td>0.0</td>\n",
       "      <td>5.0</td>\n",
       "      <td>0.0</td>\n",
       "      <td>0.0</td>\n",
       "      <td>...</td>\n",
       "      <td>0.0</td>\n",
       "      <td>0.0</td>\n",
       "      <td>0.0</td>\n",
       "      <td>0.0</td>\n",
       "      <td>0.0</td>\n",
       "      <td>0.0</td>\n",
       "      <td>0.0</td>\n",
       "      <td>0.0</td>\n",
       "      <td>0.0</td>\n",
       "      <td>0.0</td>\n",
       "    </tr>\n",
       "    <tr>\n",
       "      <th>169</th>\n",
       "      <td>0.0</td>\n",
       "      <td>0.0</td>\n",
       "      <td>0.0</td>\n",
       "      <td>0.0</td>\n",
       "      <td>0.0</td>\n",
       "      <td>0.0</td>\n",
       "      <td>0.0</td>\n",
       "      <td>0.0</td>\n",
       "      <td>0.0</td>\n",
       "      <td>0.0</td>\n",
       "      <td>...</td>\n",
       "      <td>0.0</td>\n",
       "      <td>0.0</td>\n",
       "      <td>0.0</td>\n",
       "      <td>0.0</td>\n",
       "      <td>0.0</td>\n",
       "      <td>0.0</td>\n",
       "      <td>0.0</td>\n",
       "      <td>0.0</td>\n",
       "      <td>0.0</td>\n",
       "      <td>0.0</td>\n",
       "    </tr>\n",
       "    <tr>\n",
       "      <th>183</th>\n",
       "      <td>0.0</td>\n",
       "      <td>0.0</td>\n",
       "      <td>0.0</td>\n",
       "      <td>0.0</td>\n",
       "      <td>0.0</td>\n",
       "      <td>0.0</td>\n",
       "      <td>0.0</td>\n",
       "      <td>0.0</td>\n",
       "      <td>0.0</td>\n",
       "      <td>0.0</td>\n",
       "      <td>...</td>\n",
       "      <td>0.0</td>\n",
       "      <td>0.0</td>\n",
       "      <td>0.0</td>\n",
       "      <td>0.0</td>\n",
       "      <td>0.0</td>\n",
       "      <td>0.0</td>\n",
       "      <td>0.0</td>\n",
       "      <td>0.0</td>\n",
       "      <td>0.0</td>\n",
       "      <td>0.0</td>\n",
       "    </tr>\n",
       "    <tr>\n",
       "      <th>188</th>\n",
       "      <td>0.0</td>\n",
       "      <td>0.0</td>\n",
       "      <td>0.0</td>\n",
       "      <td>0.0</td>\n",
       "      <td>0.0</td>\n",
       "      <td>0.0</td>\n",
       "      <td>0.0</td>\n",
       "      <td>0.0</td>\n",
       "      <td>0.0</td>\n",
       "      <td>0.0</td>\n",
       "      <td>...</td>\n",
       "      <td>0.0</td>\n",
       "      <td>0.0</td>\n",
       "      <td>0.0</td>\n",
       "      <td>0.0</td>\n",
       "      <td>0.0</td>\n",
       "      <td>0.0</td>\n",
       "      <td>0.0</td>\n",
       "      <td>0.0</td>\n",
       "      <td>0.0</td>\n",
       "      <td>0.0</td>\n",
       "    </tr>\n",
       "    <tr>\n",
       "      <th>195</th>\n",
       "      <td>0.0</td>\n",
       "      <td>0.0</td>\n",
       "      <td>0.0</td>\n",
       "      <td>0.0</td>\n",
       "      <td>0.0</td>\n",
       "      <td>0.0</td>\n",
       "      <td>0.0</td>\n",
       "      <td>0.0</td>\n",
       "      <td>0.0</td>\n",
       "      <td>0.0</td>\n",
       "      <td>...</td>\n",
       "      <td>0.0</td>\n",
       "      <td>0.0</td>\n",
       "      <td>4.0</td>\n",
       "      <td>0.0</td>\n",
       "      <td>0.0</td>\n",
       "      <td>0.0</td>\n",
       "      <td>0.0</td>\n",
       "      <td>0.0</td>\n",
       "      <td>0.0</td>\n",
       "      <td>0.0</td>\n",
       "    </tr>\n",
       "    <tr>\n",
       "      <th>199</th>\n",
       "      <td>0.0</td>\n",
       "      <td>0.0</td>\n",
       "      <td>0.0</td>\n",
       "      <td>0.0</td>\n",
       "      <td>0.0</td>\n",
       "      <td>0.0</td>\n",
       "      <td>0.0</td>\n",
       "      <td>3.0</td>\n",
       "      <td>0.0</td>\n",
       "      <td>0.0</td>\n",
       "      <td>...</td>\n",
       "      <td>0.0</td>\n",
       "      <td>0.0</td>\n",
       "      <td>0.0</td>\n",
       "      <td>0.0</td>\n",
       "      <td>0.0</td>\n",
       "      <td>0.0</td>\n",
       "      <td>0.0</td>\n",
       "      <td>0.0</td>\n",
       "      <td>0.0</td>\n",
       "      <td>0.0</td>\n",
       "    </tr>\n",
       "  </tbody>\n",
       "</table>\n",
       "<p>10 rows × 1342 columns</p>\n",
       "</div>"
      ],
      "text/plain": [
       "Name      10  10 Things I Hate About You  \\\n",
       "User_ID                                    \n",
       "6        0.0                         0.0   \n",
       "7        0.0                         0.0   \n",
       "79       0.0                         0.0   \n",
       "97       0.0                         0.0   \n",
       "134      0.0                         5.0   \n",
       "169      0.0                         0.0   \n",
       "183      0.0                         0.0   \n",
       "188      0.0                         0.0   \n",
       "195      0.0                         0.0   \n",
       "199      0.0                         0.0   \n",
       "\n",
       "Name     101 Dalmatians II: Patch's London Adventure  11:14  13 Ghosts  \\\n",
       "User_ID                                                                  \n",
       "6                                                0.0    0.0        0.0   \n",
       "7                                                0.0    0.0        0.0   \n",
       "79                                               3.0    0.0        0.0   \n",
       "97                                               0.0    0.0        0.0   \n",
       "134                                              0.0    0.0        0.0   \n",
       "169                                              0.0    0.0        0.0   \n",
       "183                                              0.0    0.0        0.0   \n",
       "188                                              0.0    0.0        0.0   \n",
       "195                                              0.0    0.0        0.0   \n",
       "199                                              0.0    0.0        0.0   \n",
       "\n",
       "Name     18 Again  1984  2 Fast 2 Furious  200 Cigarettes  \\\n",
       "User_ID                                                     \n",
       "6             0.0   4.0               0.0             0.0   \n",
       "7             0.0   0.0               3.0             0.0   \n",
       "79            0.0   0.0               2.0             0.0   \n",
       "97            0.0   0.0               0.0             0.0   \n",
       "134           0.0   0.0               5.0             0.0   \n",
       "169           0.0   0.0               0.0             0.0   \n",
       "183           0.0   0.0               0.0             0.0   \n",
       "188           0.0   0.0               0.0             0.0   \n",
       "195           0.0   0.0               0.0             0.0   \n",
       "199           0.0   0.0               3.0             0.0   \n",
       "\n",
       "Name     2010: The Year We Make Contact  ...  \\\n",
       "User_ID                                  ...   \n",
       "6                                   0.0  ...   \n",
       "7                                   0.0  ...   \n",
       "79                                  0.0  ...   \n",
       "97                                  0.0  ...   \n",
       "134                                 0.0  ...   \n",
       "169                                 0.0  ...   \n",
       "183                                 0.0  ...   \n",
       "188                                 0.0  ...   \n",
       "195                                 0.0  ...   \n",
       "199                                 0.0  ...   \n",
       "\n",
       "Name     Xena: Warrior Princess: Season 3  \\\n",
       "User_ID                                     \n",
       "6                                     0.0   \n",
       "7                                     0.0   \n",
       "79                                    0.0   \n",
       "97                                    0.0   \n",
       "134                                   0.0   \n",
       "169                                   0.0   \n",
       "183                                   0.0   \n",
       "188                                   0.0   \n",
       "195                                   0.0   \n",
       "199                                   0.0   \n",
       "\n",
       "Name     Xena: Warrior Princess: Series Finale  Y Tu Mama Tambien  \\\n",
       "User_ID                                                             \n",
       "6                                          0.0                0.0   \n",
       "7                                          0.0                0.0   \n",
       "79                                         0.0                0.0   \n",
       "97                                         3.0                0.0   \n",
       "134                                        0.0                0.0   \n",
       "169                                        0.0                0.0   \n",
       "183                                        0.0                0.0   \n",
       "188                                        0.0                0.0   \n",
       "195                                        0.0                4.0   \n",
       "199                                        0.0                0.0   \n",
       "\n",
       "Name     Yellow Submarine  Yi Yi  Yojimbo  Young Black Stallion  Youngblood  \\\n",
       "User_ID                                                                       \n",
       "6                     0.0    0.0      0.0                   0.0         0.0   \n",
       "7                     0.0    0.0      0.0                   0.0         0.0   \n",
       "79                    0.0    0.0      0.0                   0.0         0.0   \n",
       "97                    0.0    0.0      0.0                   0.0         0.0   \n",
       "134                   0.0    0.0      0.0                   0.0         0.0   \n",
       "169                   0.0    0.0      0.0                   0.0         0.0   \n",
       "183                   0.0    0.0      0.0                   0.0         0.0   \n",
       "188                   0.0    0.0      0.0                   0.0         0.0   \n",
       "195                   0.0    0.0      0.0                   0.0         0.0   \n",
       "199                   0.0    0.0      0.0                   0.0         0.0   \n",
       "\n",
       "Name     Yu-Gi-Oh!: The Movie  Zorro  \n",
       "User_ID                               \n",
       "6                         0.0    0.0  \n",
       "7                         0.0    0.0  \n",
       "79                        3.0    0.0  \n",
       "97                        0.0    0.0  \n",
       "134                       0.0    0.0  \n",
       "169                       0.0    0.0  \n",
       "183                       0.0    0.0  \n",
       "188                       0.0    0.0  \n",
       "195                       0.0    0.0  \n",
       "199                       0.0    0.0  \n",
       "\n",
       "[10 rows x 1342 columns]"
      ]
     },
     "execution_count": 7,
     "metadata": {},
     "output_type": "execute_result"
    }
   ],
   "source": [
    "print(f\"Pivot Table Size: {rating_matrix.shape[0]} rows, {rating_matrix.shape[1]} columns\")\n",
    "rating_matrix.head(10)"
   ]
  },
  {
   "cell_type": "markdown",
   "metadata": {},
   "source": [
    "Running similiarity metrics on our rating matrix"
   ]
  },
  {
   "cell_type": "markdown",
   "metadata": {},
   "source": [
    "Cosine similiarity: \n",
    "The cosine similarity between two vectors A and B is given by the formula: cos_similarity(A, B) = $\\frac{A \\cdot B}{\\lVert \\boldsymbol{A} \\rVert \\lVert \\boldsymbol{B} \\rVert}$"
   ]
  },
  {
   "cell_type": "markdown",
   "metadata": {},
   "source": [
    "Since our dataset is large, for this technical demo, we will use the first 1,000 users to demonstrate the following similarity metrics. "
   ]
  },
  {
   "cell_type": "code",
   "execution_count": 8,
   "metadata": {},
   "outputs": [],
   "source": [
    "sample_rating_matrix = rating_matrix.head(1000)"
   ]
  },
  {
   "cell_type": "code",
   "execution_count": 9,
   "metadata": {},
   "outputs": [],
   "source": [
    "def cosine_similarity(matrix):\n",
    "    matrix_np = matrix.to_numpy()\n",
    "\n",
    "    # Initialize an empty similarity matrix\n",
    "    similarity_matrix = np.zeros((len(matrix), len(matrix)))\n",
    "\n",
    "    for i in range(len(matrix)):\n",
    "        for j in range(i, len(matrix)):  # Since matrix is symmetric, we only need to compute the upper half\n",
    "            # Indices of non-zero elements for both users\n",
    "            nz_indices_i = matrix_np[i, :] != 0\n",
    "            nz_indices_j = matrix_np[j, :] != 0\n",
    "            nz_indices_both = nz_indices_i & nz_indices_j\n",
    "\n",
    "            # Vectors for computation\n",
    "            vector_i = matrix_np[i, nz_indices_both]\n",
    "            vector_j = matrix_np[j, nz_indices_both]\n",
    "\n",
    "            # Skip if either vector is empty\n",
    "            if len(vector_i) == 0 or len(vector_j) == 0:\n",
    "                continue\n",
    "\n",
    "            # Compute cosine similarity\n",
    "            dot_product = np.dot(vector_i, vector_j)\n",
    "            norm_i = np.linalg.norm(vector_i)\n",
    "            norm_j = np.linalg.norm(vector_j)\n",
    "            similarity = dot_product / (norm_i * norm_j)\n",
    "\n",
    "            # Fill the similarity matrix\n",
    "            similarity_matrix[i, j] = similarity\n",
    "            similarity_matrix[j, i] = similarity\n",
    "\n",
    "    return similarity_matrix"
   ]
  },
  {
   "cell_type": "code",
   "execution_count": 10,
   "metadata": {},
   "outputs": [
    {
     "name": "stdout",
     "output_type": "stream",
     "text": [
      "Top 10 movies recommended for User 6:\n",
      "Name\n",
      "American Beauty                          2.778856\n",
      "Ghost                                    2.221978\n",
      "Speed                                    1.930027\n",
      "The Wizard of Oz: Collector's Edition    1.882315\n",
      "Jaws                                     1.869414\n",
      "Being John Malkovich                     1.860085\n",
      "Patch Adams                              1.825309\n",
      "Bend It Like Beckham                     1.821213\n",
      "Sideways                                 1.786273\n",
      "National Lampoon's Vacation              1.747065\n",
      "dtype: float64\n",
      "Execution time of the program is:  22.01046895980835\n"
     ]
    }
   ],
   "source": [
    "start = time.time()\n",
    "def compute_for_user(user, matrix):\n",
    "    cosine_sim_matrix = cosine_similarity(matrix)\n",
    "\n",
    "    cosine_sim_df = pd.DataFrame(cosine_sim_matrix, index=matrix.index, columns=matrix.index)\n",
    "\n",
    "    # Find the similarity values for User 6 and exclude user \n",
    "    similarity_with_user = cosine_sim_df[user]\n",
    "    similarity_with_user = similarity_with_user.drop(user)\n",
    "\n",
    "    # Predict ratings for user\n",
    "    weighted_ratings = matrix.mul(similarity_with_user, axis=0).sum(axis=0) / similarity_with_user.sum()\n",
    "    predicted_ratings = weighted_ratings\n",
    "\n",
    "    # Exclude movies already rated by user\n",
    "    unrated_movies = matrix.loc[user] == 0\n",
    "    predicted_ratings_for_unrated_movies = predicted_ratings[unrated_movies]\n",
    "\n",
    "    top_10_movies = predicted_ratings_for_unrated_movies.sort_values(ascending=False).head(10)\n",
    "    return top_10_movies\n",
    "\n",
    "top_10_movies = compute_for_user(6, sample_rating_matrix)\n",
    "end = time.time()\n",
    "\n",
    "print(\"Top 10 movies recommended for User 6:\")\n",
    "print(top_10_movies)\n",
    "print(\"Execution time of the program is: \", end-start)\n"
   ]
  },
  {
   "cell_type": "code",
   "execution_count": 11,
   "metadata": {},
   "outputs": [],
   "source": [
    "def cosine_similarity_optimized(matrix):\n",
    "    # Convert to sparse matrix\n",
    "    sparse_matrix = csr_matrix(matrix)\n",
    "\n",
    "    # Compute the magnitude for each user vector\n",
    "    magnitude = norm(sparse_matrix, axis=1)\n",
    "\n",
    "    # Normalize each vector to unit norm\n",
    "    unit_matrix = sparse_matrix.multiply(1 / magnitude.reshape(-1, 1))\n",
    "\n",
    "    # Compute cosine similarity\n",
    "    return unit_matrix.dot(unit_matrix.T).toarray()"
   ]
  },
  {
   "cell_type": "code",
   "execution_count": 12,
   "metadata": {},
   "outputs": [
    {
     "name": "stdout",
     "output_type": "stream",
     "text": [
      "Top 10 movies recommended for User 6:\n",
      "Name\n",
      "American Beauty                          2.871258\n",
      "Ghost                                    2.326168\n",
      "Speed                                    2.084855\n",
      "Jaws                                     2.014155\n",
      "The Wizard of Oz: Collector's Edition    1.964019\n",
      "Patch Adams                              1.918758\n",
      "Being John Malkovich                     1.902401\n",
      "Sideways                                 1.891653\n",
      "National Lampoon's Vacation              1.890831\n",
      "Bend It Like Beckham                     1.845176\n",
      "dtype: float64\n",
      "Execution time of the program is:   0.1374831199645996\n"
     ]
    }
   ],
   "source": [
    "start = time.time()\n",
    "def compute_for_user(user, matrix):\n",
    "    # Calculate the cosine similarity matrix\n",
    "    cosine_sim_matrix = cosine_similarity_optimized(matrix)\n",
    "\n",
    "    cosine_sim_df = pd.DataFrame(cosine_sim_matrix, index=matrix.index, columns=matrix.index)\n",
    "\n",
    "    # Find the similarity values for user and exclude user \n",
    "    similarity_with_user = cosine_sim_df[user]\n",
    "    similarity_with_user = similarity_with_user.drop(user)\n",
    "\n",
    "    # Predict ratings for user\n",
    "    weighted_ratings = matrix.mul(similarity_with_user, axis=0).sum(axis=0) / similarity_with_user.sum()\n",
    "    predicted_ratings = weighted_ratings\n",
    "\n",
    "    # Exclude movies already rated by user\n",
    "    unrated_movies = matrix.loc[user] == 0\n",
    "    predicted_ratings_for_unrated_movies = predicted_ratings[unrated_movies]\n",
    "\n",
    "    top_10_movies = predicted_ratings_for_unrated_movies.sort_values(ascending=False).head(10)\n",
    "    return top_10_movies\n",
    "\n",
    "top_10_movies = compute_for_user(6, sample_rating_matrix)\n",
    "end = time.time()\n",
    "\n",
    "print(\"Top 10 movies recommended for User 6:\")\n",
    "print(top_10_movies)\n",
    "print(\"Execution time of the program is:  \", end-start)\n",
    "\n"
   ]
  },
  {
   "cell_type": "markdown",
   "metadata": {},
   "source": [
    "As you can see from the output of my two cosine_similarity functions, the results are slightly different - the #1 suggested movie of American beautiy has a \"score\" of 2.77 in the first result and 2.88 in the second. The Wizard of Oz is the 4th recommended movie in the first implementation while it is 5th in the second implementation. \n",
    "\n",
    "Reasons for slight differences: \n",
    "\n",
    "a. Treatment of Zeros:\n",
    "\n",
    "In the dense implementation (cosine_similarity), zeros are explicitly considered and filtered out for each pair of users being compared. This method calculates similarity based solely on the items that both users have rated.\n",
    "The sparse implementation (cosine_similarity_optimized) inherently ignores zeros since they are not stored in the sparse matrix format. This method focuses on the non-zero ratings but might include zeros in the normalization step across entire vectors.\n",
    "\n",
    "b. Normalization Process:\n",
    "\n",
    "The first method normalizes vectors by considering only non-zero elements, effectively altering the vector length during normalization. This approach changes the basis of comparison to focus strictly on commonly rated items.\n",
    "The sparse method normalizes each vector as a whole, including zeros. This can lead to a slightly different interpretation of user preferences, especially in rows with many zeros.\n",
    "\n",
    "While there are technical differences in how the dense and sparse implementations of cosine similarity handle the data, especially regarding zeros and normalization, these differences are usually minor in the context of a recommendation system. The primary goal is to identify general patterns of user preferences, and both methods effectively contribute to this goal, with the sparse method offering significant computational advantages (as you can tell by the total time it took the program to run)."
   ]
  },
  {
   "cell_type": "code",
   "execution_count": 13,
   "metadata": {},
   "outputs": [],
   "source": [
    "def top_similar_users(target_user_id, user_item_matrix, top_n=50):\n",
    "    target_user_ratings = user_item_matrix.loc[target_user_id]\n",
    "    similarities = {}\n",
    "\n",
    "    for user_id in user_item_matrix.index:\n",
    "        if user_id != target_user_id:\n",
    "            current_user_ratings = user_item_matrix.loc[user_id]\n",
    "            correlation = target_user_ratings.corr(current_user_ratings, method='pearson')\n",
    "            if not np.isnan(correlation):\n",
    "                similarities[user_id] = correlation\n",
    "\n",
    "    # Sort users based on similarity score\n",
    "    top_users = sorted(similarities.items(), key=lambda x: x[1], reverse=True)[:top_n]\n",
    "    return top_users"
   ]
  },
  {
   "cell_type": "code",
   "execution_count": 14,
   "metadata": {},
   "outputs": [
    {
     "name": "stdout",
     "output_type": "stream",
     "text": [
      "[(14936, 0.5485083619604826), (11676, 0.4955740991284069), (15731, 0.4761117520680235), (12582, 0.4450406933646307), (1295, 0.44192122501171854), (12649, 0.44102348047097184), (11826, 0.4388587845159367), (3695, 0.43408143858588255), (17949, 0.43180055561791314), (15385, 0.4253822626811486)]\n"
     ]
    }
   ],
   "source": [
    "similar_users = top_similar_users(6, sample_rating_matrix)  # Replace 123456 with a valid user ID\n",
    "print(similar_users[:10])"
   ]
  },
  {
   "cell_type": "code",
   "execution_count": 15,
   "metadata": {},
   "outputs": [],
   "source": [
    "def recommend_movies(similar_users, user_item_matrix, top_n=50):\n",
    "    movie_scores = {}\n",
    "\n",
    "    for user_id, score in similar_users:\n",
    "        for movie_id, rating in user_item_matrix.loc[user_id].items():\n",
    "            if not np.isnan(rating):\n",
    "                if movie_id not in movie_scores:\n",
    "                    movie_scores[movie_id] = rating * score\n",
    "                else:\n",
    "                    movie_scores[movie_id] += rating * score\n",
    "\n",
    "    # Sort movies based on the calculated score\n",
    "    recommended_movies = sorted(movie_scores.items(), key=lambda x: x[1], reverse=True)[:top_n]\n",
    "    return recommended_movies\n"
   ]
  },
  {
   "cell_type": "code",
   "execution_count": 16,
   "metadata": {},
   "outputs": [
    {
     "name": "stdout",
     "output_type": "stream",
     "text": [
      "[('Braveheart', 87.30697294393387), ('Lord of the Rings: The Fellowship of the Ring', 87.2287854301782), ('Pirates of the Caribbean: The Curse of the Black Pearl', 84.86232239891373), ('The Last Samurai', 84.43133165039265), ('The Sixth Sense', 82.65357158903699), ('The Silence of the Lambs', 81.14449728468459), ('Shrek 2', 80.02766775391659), ('The Bourne Supremacy', 76.4850865451375), ('Road to Perdition', 75.30331151790745), ('The Italian Job', 74.11938967619633), ('Finding Nemo (Widescreen)', 73.92022593358918), ('Man on Fire', 73.24230712979208), ('The Matrix: Reloaded', 70.37241729941994), ('Lethal Weapon', 70.17846940076505), ('Bruce Almighty', 69.15493479581113), ('A Beautiful Mind', 68.86758316218906), ('Ray', 68.64324538418771), ('American Beauty', 68.07248455109773), ('Kill Bill: Vol. 2', 67.60178135761747), ('50 First Dates', 65.6867789239527), ('Reservoir Dogs', 65.49500477157736), ('The Godfather', 64.49813469329442), ('The Passion of the Christ', 64.25628193798171), ('The Sum of All Fears', 63.7146158563483), ('X2: X-Men United', 61.88383859111693), ('The Recruit', 60.224585683658496), ('Along Came Polly', 57.197956174564574), ('Sideways', 57.069553326550526), (\"Something's Gotta Give\", 55.33291665266713), ('The Matrix: Revolutions', 55.05411168631244), ('What Women Want', 54.810297048582655), ('Jaws', 53.24433492641614), (\"National Lampoon's Vacation\", 52.767503427048936), ('S.W.A.T.', 52.7275375160725), ('Liar Liar', 51.96315093603558), ('Sleepless in Seattle', 51.69573187458639), ('Patch Adams', 51.361110889546374), ('Bad Boys II', 50.792743820779386), ('Finding Neverland', 50.658144926790534), ('Speed', 49.06355693796009), ('Identity', 48.97513088814738), ('The Village', 48.55162490087067), ('The Mummy', 48.21899106084573), ('Eternal Sunshine of the Spotless Mind', 46.896043438679726), ('Men in Black II', 46.62258287355791), ('Signs', 45.96313184157283), ('Ghost', 45.83908981031728), ('Pay It Forward', 45.33106625591103), ('Super Size Me', 45.06283268829239), ('Elf', 44.31717299895088)]\n"
     ]
    }
   ],
   "source": [
    "# Example usage\n",
    "recommended_movies = recommend_movies(similar_users, sample_rating_matrix)\n",
    "print(recommended_movies)\n"
   ]
  },
  {
   "cell_type": "markdown",
   "metadata": {},
   "source": [
    "testing how good our recommender is \n",
    "(we take the user with the most ratings)"
   ]
  },
  {
   "cell_type": "code",
   "execution_count": 17,
   "metadata": {},
   "outputs": [],
   "source": [
    "test_user = 6\n",
    "sample_rating_matrix = rating_matrix.head(5000)\n",
    "\n",
    "actual_ratings = {}\n",
    "\n",
    "for rating in range(1, 6):\n",
    "    rated_movies = sample_rating_matrix.loc[test_user]\n",
    "    selected_movies = rated_movies[rated_movies == rating].sample(n=4, replace=True)\n",
    "    actual_ratings.update(selected_movies.to_dict())\n",
    "actual_ratings\n",
    "\n",
    "\n",
    "user_item_matrix_mod = sample_rating_matrix.copy()\n",
    "user_item_matrix_mod.loc[test_user, actual_ratings.keys()] = np.NaN"
   ]
  },
  {
   "cell_type": "code",
   "execution_count": null,
   "metadata": {},
   "outputs": [],
   "source": []
  },
  {
   "cell_type": "markdown",
   "metadata": {},
   "source": [
    "slightly adjust our cosine simliarity function using the same logic I have demonstrated above: "
   ]
  },
  {
   "cell_type": "code",
   "execution_count": 18,
   "metadata": {},
   "outputs": [],
   "source": [
    "def cosine_similarity_optimized(matrix):\n",
    "    sparse_matrix = csr_matrix(matrix.fillna(0))\n",
    "    magnitude = norm(sparse_matrix, axis=1)\n",
    "    unit_matrix = sparse_matrix.multiply(1 / magnitude.reshape(-1, 1))\n",
    "    return unit_matrix.dot(unit_matrix.T).toarray()\n",
    "\n",
    "def compute_for_user(user, matrix):\n",
    "    cosine_sim_matrix = cosine_similarity_optimized(matrix)\n",
    "    cosine_sim_df = pd.DataFrame(cosine_sim_matrix, index=matrix.index, columns=matrix.index)\n",
    "    similarity_with_user = cosine_sim_df[user].drop(user)\n",
    "    weighted_ratings = matrix.mul(similarity_with_user, axis=0).sum(axis=0) / similarity_with_user.sum()\n",
    "    predicted_ratings = weighted_ratings[actual_ratings.keys()]\n",
    "    return predicted_ratings\n",
    "\n",
    "cosine_predicted_ratings = compute_for_user(test_user, user_item_matrix_mod)\n"
   ]
  },
  {
   "cell_type": "code",
   "execution_count": 19,
   "metadata": {},
   "outputs": [],
   "source": [
    "def top_similar_users(user_id, matrix, n=20):\n",
    "    target_user_ratings = matrix.loc[user_id]\n",
    "    similarities = {}\n",
    "    for other_user in matrix.index:\n",
    "        if other_user != user_id:\n",
    "            other_user_ratings = matrix.loc[other_user]\n",
    "            correlation = target_user_ratings.corr(other_user_ratings, method='pearson')\n",
    "            if not np.isnan(correlation):\n",
    "                similarities[other_user] = correlation\n",
    "    top_users = sorted(similarities.items(), key=lambda x: x[1], reverse=True)[:n]\n",
    "    return top_users\n",
    "\n",
    "def predict_pearson_ratings(user_id, matrix, top_users):\n",
    "    pearson_predictions = {}\n",
    "    for movie in actual_ratings.keys():\n",
    "        weighted_ratings_sum = 0\n",
    "        similarity_sum = 0\n",
    "        for other_user, similarity in top_users:\n",
    "            if not np.isnan(matrix.loc[other_user, movie]):\n",
    "                weighted_ratings_sum += matrix.loc[other_user, movie] * similarity\n",
    "                similarity_sum += similarity\n",
    "        predicted_rating = weighted_ratings_sum / similarity_sum if similarity_sum != 0 else 0\n",
    "        pearson_predictions[movie] = predicted_rating\n",
    "    return pearson_predictions\n",
    "\n",
    "top_users = top_similar_users(test_user, user_item_matrix_mod)\n",
    "pearson_predicted_ratings = predict_pearson_ratings(test_user, user_item_matrix_mod, top_users)\n"
   ]
  },
  {
   "cell_type": "code",
   "execution_count": 20,
   "metadata": {},
   "outputs": [],
   "source": [
    "movies = list(actual_ratings.keys())\n",
    "actual_ratings_list = [actual_ratings[movie] for movie in movies]\n",
    "cosine_ratings_list = [cosine_predicted_ratings.get(movie, None) for movie in movies]\n",
    "pearson_ratings_list = [pearson_predicted_ratings.get(movie, None) for movie in movies]\n"
   ]
  },
  {
   "cell_type": "code",
   "execution_count": 21,
   "metadata": {},
   "outputs": [],
   "source": [
    "def plot_actual_vs_cosine(actual_ratings, cosine_predicted_ratings, movies):\n",
    "    plt.figure(figsize=(10, 5))\n",
    "    plt.scatter(actual_ratings, cosine_predicted_ratings, color='blue')\n",
    "    plt.title('Actual vs Cosine Predicted Ratings')\n",
    "    plt.xlabel('Actual Ratings')\n",
    "    plt.ylabel('Cosine Predicted Ratings')\n",
    "    plt.xticks(range(1, 6))\n",
    "    plt.yticks(range(1, 6))\n",
    "    for i, txt in enumerate(movies):\n",
    "        plt.annotate(txt, (actual_ratings[i], cosine_predicted_ratings[i]))\n",
    "    plt.show()\n"
   ]
  },
  {
   "cell_type": "code",
   "execution_count": 22,
   "metadata": {},
   "outputs": [],
   "source": [
    "def plot_actual_vs_pearson(actual_ratings, pearson_predicted_ratings, movies):\n",
    "    plt.figure(figsize=(10, 5))\n",
    "    plt.scatter(actual_ratings, pearson_predicted_ratings, color='green')\n",
    "    plt.title('Actual vs Pearson Predicted Ratings')\n",
    "    plt.xlabel('Actual Ratings')\n",
    "    plt.ylabel('Pearson Predicted Ratings')\n",
    "    plt.xticks(range(1, 6))\n",
    "    plt.yticks(range(1, 6))\n",
    "    for i, txt in enumerate(movies):\n",
    "        plt.annotate(txt, (actual_ratings[i], pearson_predicted_ratings[i]))\n",
    "    plt.show()\n"
   ]
  },
  {
   "cell_type": "code",
   "execution_count": 23,
   "metadata": {},
   "outputs": [
    {
     "data": {
      "image/png": "[encoded data removed]",
      "text/plain": [
       "<Figure size 720x360 with 1 Axes>"
      ]
     },
     "metadata": {
      "needs_background": "light"
     },
     "output_type": "display_data"
    }
   ],
   "source": [
    "plot_actual_vs_cosine(actual_ratings_list, cosine_ratings_list, movies)\n",
    "\n"
   ]
  },
  {
   "cell_type": "code",
   "execution_count": 24,
   "metadata": {},
   "outputs": [
    {
     "data": {
      "image/png": "[encoded data removed]",
      "text/plain": [
       "<Figure size 720x360 with 1 Axes>"
      ]
     },
     "metadata": {
      "needs_background": "light"
     },
     "output_type": "display_data"
    }
   ],
   "source": [
    "plot_actual_vs_pearson(actual_ratings_list, pearson_ratings_list, movies)\n"
   ]
  },
  {
   "cell_type": "code",
   "execution_count": 29,
   "metadata": {},
   "outputs": [
    {
     "name": "stdout",
     "output_type": "stream",
     "text": [
      "Name\n",
      "Patch Adams          3.812217\n",
      "Speed                3.536374\n",
      "The Family Man       3.280270\n",
      "Jaws                 3.117403\n",
      "Forever Young        3.067628\n",
      "Ghost                2.699827\n",
      "Hollow Man           2.605199\n",
      "Jurassic Park III    2.537262\n",
      "Secondhand Lions     2.466584\n",
      "Pay It Forward       2.460079\n",
      "Name: 169, dtype: float64\n"
     ]
    }
   ],
   "source": [
    "#this method is implenent in full in the other file titled matricFactorization ->\n",
    "#here we simply use a built in library for testing purposees\n",
    "def recommend_movies_svd(rating_matrix, user_id, num_recommendations=10):\n",
    "\n",
    "    matrix = rating_matrix.fillna(0).to_numpy()\n",
    "    \n",
    "    U, sigma, Vt = svds(matrix, k=50)  \n",
    "    sigma = np.diag(sigma)\n",
    "\n",
    "    predicted_ratings = np.dot(np.dot(U, sigma), Vt)\n",
    "\n",
    "    pred_ratings_df = pd.DataFrame(predicted_ratings, index=rating_matrix.index, columns=rating_matrix.columns)\n",
    "\n",
    "    user_row_number = user_id - 1 0\n",
    "    sorted_user_predictions = pred_ratings_df.iloc[user_row_number].sort_values(ascending=False)\n",
    "    \n",
    "    user_data = rating_matrix.loc[user_id]\n",
    "    recommendations = sorted_user_predictions[~sorted_user_predictions.index.isin(user_data[user_data > 0].index)]\n",
    "    \n",
    "    return recommendations.head(num_recommendations)\n",
    "\n",
    "num_recommendations = 10\n",
    "recommendations = recommend_movies_svd(sample_rating_matrix, test_user, num_recommendations)\n",
    "print(recommendations)"
   ]
  },
  {
   "cell_type": "code",
   "execution_count": 32,
   "metadata": {},
   "outputs": [
    {
     "data": {
      "image/png": "[encoded data removed]",
      "text/plain": [
       "<Figure size 720x360 with 1 Axes>"
      ]
     },
     "metadata": {
      "needs_background": "light"
     },
     "output_type": "display_data"
    }
   ],
   "source": [
    "user_id = test_user\n",
    "num_movies_to_test = 10\n",
    "\n",
    "actual_ratings = sample_rating_matrix.loc[user_id].dropna().sample(num_movies_to_test)\n",
    "user_item_matrix_mod = sample_rating_matrix.copy()\n",
    "user_item_matrix_mod.loc[user_id, actual_ratings.index] = np.NaN\n",
    "\n",
    "predicted_ratings_full = recommend_movies_svd(user_item_matrix_mod, user_id, len(user_item_matrix_mod.columns))\n",
    "predicted_ratings = predicted_ratings_full.loc[actual_ratings.index]\n",
    "\n",
    "actual_ratings_list = actual_ratings.tolist()\n",
    "predicted_ratings_list = predicted_ratings.tolist()\n",
    "movies = actual_ratings.index.tolist()\n",
    "\n",
    "plt.figure(figsize=(10, 5))\n",
    "plt.scatter(actual_ratings_list, predicted_ratings_list, color='red')\n",
    "plt.title('Actual vs SVD Predicted Ratings')\n",
    "plt.xlabel('Actual Ratings')\n",
    "plt.ylabel('SVD Predicted Ratings')\n",
    "plt.xticks(range(0, 6))\n",
    "plt.yticks(range(0, 6))\n",
    "for i, txt in enumerate(movies):\n",
    "    plt.annotate(txt, (actual_ratings_list[i], predicted_ratings_list[i]))\n",
    "plt.show()"
   ]
  },
  {
   "cell_type": "code",
   "execution_count": null,
   "metadata": {},
   "outputs": [],
   "source": []
  }
 ],
 "metadata": {
  "kernelspec": {
   "display_name": "Python 3 (ipykernel)",
   "language": "python",
   "name": "python3"
  },
  "language_info": {
   "codemirror_mode": {
    "name": "ipython",
    "version": 3
   },
   "file_extension": ".py",
   "mimetype": "text/x-python",
   "name": "python",
   "nbconvert_exporter": "python",
   "pygments_lexer": "ipython3",
   "version": "3.9.12"
  }
 },
 "nbformat": 4,
 "nbformat_minor": 2
}
