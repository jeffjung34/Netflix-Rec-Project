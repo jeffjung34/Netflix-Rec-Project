{
 "cells": [
  {
   "cell_type": "code",
   "execution_count": 1,
   "metadata": {},
   "outputs": [],
   "source": [
    "import pandas as pd\n",
    "import numpy as np\n",
    "\n",
    "df = pd.read_csv('Users-Movies Matrix.csv', index_col='User_ID')\n",
    "ratings = df.values "
   ]
  },
  {
   "cell_type": "code",
   "execution_count": 5,
   "metadata": {},
   "outputs": [],
   "source": [
    "from sklearn.decomposition import TruncatedSVD\n",
    "\n",
    "# Number of latent features\n",
    "k = 5\n",
    "\n",
    "# Apply Truncated SVD to quickly factorize matrix\n",
    "svd = TruncatedSVD(n_components=k, random_state=42)\n",
    "user_matrix = svd.fit_transform(ratings)  # User latent features\n",
    "movie_matrix = svd.components_  # Movie latent features"
   ]
  },
  {
   "cell_type": "code",
   "execution_count": 6,
   "metadata": {},
   "outputs": [],
   "source": [
    "predicted_ratings = np.dot(user_matrix, movie_matrix)\n",
    "predicted_ratings = np.clip(predicted_ratings, 1, 5)"
   ]
  },
  {
   "cell_type": "code",
   "execution_count": 8,
   "metadata": {},
   "outputs": [
    {
     "name": "stdout",
     "output_type": "stream",
     "text": [
      "Top 10 movie recommendations for User ID 6:\n",
      "Movie: American Beauty, Predicted Rating: 3.20\n",
      "Movie: Ghost, Predicted Rating: 2.55\n",
      "Movie: Jaws, Predicted Rating: 2.53\n",
      "Movie: Speed, Predicted Rating: 2.52\n",
      "Movie: Training Day, Predicted Rating: 2.38\n",
      "Movie: Secondhand Lions, Predicted Rating: 2.25\n",
      "Movie: Beverly Hills Cop, Predicted Rating: 2.12\n",
      "Movie: Rush Hour 2, Predicted Rating: 2.11\n",
      "Movie: Sideways, Predicted Rating: 2.03\n",
      "Movie: The Perfect Storm, Predicted Rating: 1.97\n"
     ]
    }
   ],
   "source": [
    "user_id = 6  # Example user ID\n",
    "user_index = df.index.get_loc(user_id)\n",
    "\n",
    "# Get predicted ratings for the specific user\n",
    "user_predicted_ratings = predicted_ratings[user_index]\n",
    "\n",
    "# Pair movie titles with predicted ratings and sort them\n",
    "movie_titles = df.columns.tolist()\n",
    "movies_with_predictions = list(zip(movie_titles, user_predicted_ratings))\n",
    "sorted_movies_with_predictions = sorted(movies_with_predictions, key=lambda x: x[1], reverse=True)\n",
    "\n",
    "# Filter out already rated movies and extract top N recommendations\n",
    "user_original_ratings = df.loc[user_id].values\n",
    "unrated_movies_with_predictions = [(movie, rating) for movie, rating in sorted_movies_with_predictions if user_original_ratings[movie_titles.index(movie)] == 0]\n",
    "top_recommendations = unrated_movies_with_predictions[:10]  # Top 10 recommendations\n",
    "\n",
    "# Display recommendations\n",
    "print(\"Top 10 movie recommendations for User ID {}:\".format(user_id))\n",
    "for movie, predicted_rating in top_recommendations:\n",
    "    print(f\"Movie: {movie}, Predicted Rating: {predicted_rating:.2f}\")"
   ]
  },
  {
   "cell_type": "code",
   "execution_count": null,
   "metadata": {},
   "outputs": [],
   "source": []
  }
 ],
 "metadata": {
  "kernelspec": {
   "display_name": "Python 3",
   "language": "python",
   "name": "python3"
  },
  "language_info": {
   "codemirror_mode": {
    "name": "ipython",
    "version": 3
   },
   "file_extension": ".py",
   "mimetype": "text/x-python",
   "name": "python",
   "nbconvert_exporter": "python",
   "pygments_lexer": "ipython3",
   "version": "3.9.4"
  }
 },
 "nbformat": 4,
 "nbformat_minor": 2
}
